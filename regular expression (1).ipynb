{
 "cells": [
  {
   "cell_type": "markdown",
   "metadata": {},
   "source": [
    "정규표현식(Regular Expression) :\n",
    "\n",
    "문자열에 존재하는 규칙을 찾아서 표현하는 방법\n",
    "\n",
    "또는 특정한 규칙을 갖는 모든 문자열을 표현하는 방법\n",
    "\n",
    "eg) a로 시작해서b로 끝나는 모든 문자열 ('asddsjfosdjfojsfsdfb', 'ab' 등등 과 같은) ->정규표현식으로 표현 가능\n",
    "\n",
    "용도 :\n",
    "\n",
    "어떤 문자열 속에서 특정한 규칙을 갖고 있는 단어 또는 문자열을 찾고자 할 때 사용.\n",
    "\n",
    "eg) 'life is short, you need python' 이라는 문자열 속에서 'need'라는 단어 or p로 시작하는 단어 를 찾고자 할 경우\n",
    "\n",
    "\n",
    "\n",
    "\n",
    "'*', '?' '+' 를 통해 표현한다\n",
    "\n",
    "\n",
    "\n",
    "정규표현식 표현 방법\n",
    "\n",
    "\n",
    "* = 해당 문자가 0회 이상 반복\n",
    "\n",
    "eg) ab*a = aa, aba, abba, abbba 모두 매치\n",
    "\n",
    "\n",
    "+ = 해당 문자가 1회 이상 반복\n",
    "\n",
    "eg) ab+a = aba, abba, abbba 등등 aa는 안됨\n",
    "\n",
    "? = 해당 문자 0,1회 반복\n",
    "\n",
    "eg) ab?a= aa, aba 만 가능\n",
    "\n",
    "\n",
    "\n",
    "{} = 해당 문자 특정 횟수 만큼 반복\n",
    "\n",
    "ab{1}a = aba 제외한 나머지는 해당 안됨\n",
    "\n",
    "{}를 통해 범위 지정 가능\n",
    "\n",
    "{from,to}= 해당 문자 from~to회 반복\n",
    "\n",
    "from이 공란일 경우=0\n",
    "to가 공란일 경우=무한대\n",
    "\n",
    "\n",
    "\n",
    "\n",
    "\n",
    "\n",
    "\n",
    "\n",
    "\n",
    "\n",
    "\n",
    "[]의 사용\n",
    "\n",
    "\n",
    "하나의 문자가 아닌, 다양한 문자가 참일 경우, []를 이용.\n",
    "\n",
    "[] = '괄호 안에 있는 문자들 중 하나' 라는 의미를 갖고 있음.\n",
    "    \n",
    "\n",
    "eg)\n",
    "[abc] = a,b,c 세 문자 중 하나가 포함되는 모든 문자열 \n",
    "\n",
    "\n",
    "\"a\"는 정규식과 일치하는 문자인 \"a\"가 있으므로 매치\n",
    "\"before\"는 정규식과 일치하는 문자인 \"b\"가 있으므로 매치\n",
    "\"dude\"는 정규식과 일치하는 문자인 a, b, c 중 어느 하나도 포함하고 있지 않으므로 매치되지 않음\n",
    "\n",
    "\n",
    "[a-z] = a-z까지\n",
    "\n",
    "소문자가 있는 경우 모두 매치\n",
    "\n",
    "[0-9] = 숫자\n",
    "\n",
    "숫자가 있는 경우 매치\n",
    "\n",
    "\n",
    "[a-zA-Z] : 알파벳 모두\n",
    "\n",
    "\n",
    "\\d = [0-9] = 숫자\n",
    "\\D = 숫자 제외\n",
    "\\w = [a-zA-z0-9] 문자와 숫자\n",
    "\\W = 문자,숫자 제외\n",
    "\\s = [ \\t\\n\\r\\f\\v]\n",
    "\\S = 저거 제외\n",
    "\n",
    "\n",
    "\n",
    "\n",
    ".=모든 문자(\\n) 제외\n",
    "\n",
    "eg) a.b  = aab, acb, abb ......등을 의미\n",
    "a[.]b = []와 함께 사용되었을 경우는 문자 '.'을 의미하게됨 따라서 'a.b' 하나만을 의미\n",
    "\n",
    "\n",
    "\n",
    "\n",
    "\n",
    "\n",
    "\n",
    "\n",
    "\n",
    "\n",
    "\n",
    "\n",
    "\n",
    "\n",
    "\n",
    "\n"
   ]
  },
  {
   "cell_type": "markdown",
   "metadata": {},
   "source": [
    "정규식을 파이썬에서 사용하는 방법\n",
    "\n",
    "re 모듈을 통해\n",
    "\n",
    "re.compile -> 정규식 객체화 가능\n",
    "\n",
    "이 객체는 4가지 메쏘드 제공\n",
    "\n",
    "    match() \t문자열의 처음부터 정규식과 매치되는지 조사한다.\n",
    "    search()\t문자열 전체를 검색하여 정규식과 매치되는지 조사한다.\n",
    "    findall()\t정규식과 매치되는 모든 문자열(substring)을 리스트로 리턴한다\n",
    "    finditer()\t정규식과 매치되는 모든 문자열(substring)을 iterator 객체로 리턴한다\n"
   ]
  },
  {
   "cell_type": "code",
   "execution_count": 8,
   "metadata": {
    "collapsed": false
   },
   "outputs": [
    {
     "data": {
      "text/plain": [
       "<_sre.SRE_Match object; span=(0, 1), match='a'>"
      ]
     },
     "execution_count": 8,
     "metadata": {},
     "output_type": "execute_result"
    }
   ],
   "source": [
    "import re\n",
    "test=re.compile('ab*')\n",
    "\n",
    "test.match('aaaaaa')\n",
    "\n"
   ]
  },
  {
   "cell_type": "code",
   "execution_count": 16,
   "metadata": {
    "collapsed": false
   },
   "outputs": [
    {
     "data": {
      "text/plain": [
       "<_sre.SRE_Match object; span=(0, 6), match='aaaaaa'>"
      ]
     },
     "execution_count": 16,
     "metadata": {},
     "output_type": "execute_result"
    }
   ],
   "source": [
    "\n",
    "test=re.compile('a*')\n",
    "\n",
    "test.match('aaaaaa')"
   ]
  },
  {
   "cell_type": "code",
   "execution_count": 7,
   "metadata": {
    "collapsed": false
   },
   "outputs": [
    {
     "name": "stdout",
     "output_type": "stream",
     "text": [
      "<_sre.SRE_Match object; span=(0, 6), match='python'>\n"
     ]
    }
   ],
   "source": [
    "test=re.compile('\\w+')\n",
    "\n",
    "m=test.match('python')\n",
    "\n",
    "#match는 객체를 반환함\n",
    "print(m)"
   ]
  },
  {
   "cell_type": "code",
   "execution_count": 23,
   "metadata": {
    "collapsed": false
   },
   "outputs": [
    {
     "name": "stdout",
     "output_type": "stream",
     "text": [
      "None\n",
      "<_sre.SRE_Match object; span=(15, 18), match='111'>\n",
      "<_sre.SRE_Match object; span=(15, 18), match='111'>\n"
     ]
    }
   ],
   "source": [
    "test=re.compile('\\d+')\n",
    "print(test.match('whowhwohwowohwo111'))\n",
    "print(test.search('whowhwohwowohwo111'))\n",
    "\n",
    "print(test.search('whowhwohwowohwo111        329230  fjwoefj20202'))\n",
    "#search도 객체를 반환함 가장 먼저 매칭되는거 하나만 반환하는듯."
   ]
  },
  {
   "cell_type": "code",
   "execution_count": 15,
   "metadata": {
    "collapsed": false
   },
   "outputs": [
    {
     "name": "stdout",
     "output_type": "stream",
     "text": [
      "['010', '3020', '1029', '12312', '12932193', '2139213', '01010', '1']\n"
     ]
    }
   ],
   "source": [
    "print(test.findall('010-3020-1029   12312   12932193   2139213   fjw01010sdfsd1fsdf')) \n",
    "# 정규표현식 만족하는거 전부 찾아서 list로 돌려줌 .객체를 반환하지 x"
   ]
  },
  {
   "cell_type": "code",
   "execution_count": 22,
   "metadata": {
    "collapsed": false
   },
   "outputs": [
    {
     "name": "stdout",
     "output_type": "stream",
     "text": [
      "<callable_iterator object at 0x0000020C31292FD0>\n",
      "<callable_iterator object at 0x0000020C31292F98>\n",
      "<_sre.SRE_Match object; span=(4, 8), match='life'>\n",
      "<_sre.SRE_Match object; span=(9, 11), match='is'>\n",
      "<_sre.SRE_Match object; span=(12, 15), match='too'>\n",
      "<_sre.SRE_Match object; span=(16, 21), match='short'>\n"
     ]
    }
   ],
   "source": [
    "test=re.compile('[a-z]+')\n",
    "print(test.finditer('life is too short'))\n",
    "\n",
    "m=test.finditer('123 life is too short')\n",
    "print(m)\n",
    "for i in m:\n",
    "    print(i)\n",
    "    \n",
    "#이게 머임? 반복가능한 match 객체 반환이라는데 먼지 잘 모르겠음"
   ]
  },
  {
   "cell_type": "markdown",
   "metadata": {},
   "source": [
    "복습\n",
    "\n",
    "re 모듈 이용\n",
    "compile 매써드 이용하여 정규표현식 객체를 생성할 수 이씀\n",
    "\n",
    "이 객체는 match, search, findall, finditer 4 개의 매써드 제공\n",
    "\n",
    "이 중 match, search, finditer은 match 객체 반환\n",
    "\n",
    "------------------------\n",
    "\n",
    "match 객체는 4개의 매써드를 제공\n",
    "\n",
    "group - 매치된 문자열 반환\n",
    "start - 매치된 문자열의 시작 위치\n",
    "end   - 매치된 문자열의 끝 위치 반환\n",
    "span  - 시작 위치와 끝위치를 튜플로 반환"
   ]
  },
  {
   "cell_type": "code",
   "execution_count": 31,
   "metadata": {
    "collapsed": false
   },
   "outputs": [
    {
     "name": "stdout",
     "output_type": "stream",
     "text": [
      "<_sre.SRE_Match object; span=(0, 14), match='wowowowowowowo'>\n",
      "<built-in method group of _sre.SRE_Match object at 0x0000020C312A7308>\n",
      "wowowowowowowo\n",
      "0\n",
      "14\n",
      "(0, 14)\n"
     ]
    }
   ],
   "source": [
    "test=re.compile('\\w+')\n",
    "Iget=test.match('wowowowowowowo       wefwefwefwefewf')\n",
    "print(Iget)\n",
    "moya=Iget.group     # 이건 머임?\n",
    "print(moya)\n",
    "\n",
    "moya=Iget.group()\n",
    "print(moya)\n",
    "\n",
    "print(Iget.start())\n",
    "print(Iget.end())\n",
    "print(Iget.span())"
   ]
  },
  {
   "cell_type": "code",
   "execution_count": 33,
   "metadata": {
    "collapsed": false
   },
   "outputs": [
    {
     "name": "stdout",
     "output_type": "stream",
     "text": [
      "<callable_iterator object at 0x0000020C31292160>\n"
     ]
    },
    {
     "ename": "AttributeError",
     "evalue": "'callable_iterator' object has no attribute 'group'",
     "output_type": "error",
     "traceback": [
      "\u001b[1;31m---------------------------------------------------------------------------\u001b[0m",
      "\u001b[1;31mAttributeError\u001b[0m                            Traceback (most recent call last)",
      "\u001b[1;32m<ipython-input-33-a8c2a434383d>\u001b[0m in \u001b[0;36m<module>\u001b[1;34m()\u001b[0m\n\u001b[0;32m      1\u001b[0m \u001b[0mIget\u001b[0m\u001b[1;33m=\u001b[0m\u001b[0mtest\u001b[0m\u001b[1;33m.\u001b[0m\u001b[0mfinditer\u001b[0m\u001b[1;33m(\u001b[0m\u001b[1;34m'wjwoef w wjeofj mwlfmlwm  wemfwelf'\u001b[0m\u001b[1;33m)\u001b[0m\u001b[1;33m\u001b[0m\u001b[0m\n\u001b[0;32m      2\u001b[0m \u001b[0mprint\u001b[0m\u001b[1;33m(\u001b[0m\u001b[0mIget\u001b[0m\u001b[1;33m)\u001b[0m\u001b[1;33m\u001b[0m\u001b[0m\n\u001b[1;32m----> 3\u001b[1;33m \u001b[0mprint\u001b[0m\u001b[1;33m(\u001b[0m\u001b[0mIget\u001b[0m\u001b[1;33m.\u001b[0m\u001b[0mgroup\u001b[0m\u001b[1;33m(\u001b[0m\u001b[1;33m)\u001b[0m\u001b[1;33m)\u001b[0m\u001b[1;33m\u001b[0m\u001b[0m\n\u001b[0m",
      "\u001b[1;31mAttributeError\u001b[0m: 'callable_iterator' object has no attribute 'group'"
     ]
    }
   ],
   "source": [
    "Iget=test.finditer('wjwoef w wjeofj mwlfmlwm  wemfwelf')\n",
    "print(Iget)\n",
    "print(Iget.group()) #오류남"
   ]
  },
  {
   "cell_type": "code",
   "execution_count": 34,
   "metadata": {
    "collapsed": false
   },
   "outputs": [
    {
     "name": "stdout",
     "output_type": "stream",
     "text": [
      "wjwoef\n",
      "w\n",
      "wjeofj\n",
      "mwlfmlwm\n",
      "wemfwelf\n"
     ]
    }
   ],
   "source": [
    "for i in Iget:\n",
    "    print(i.group())            #finditer 함수는 match 객체 여러개 반환? "
   ]
  },
  {
   "cell_type": "code",
   "execution_count": 38,
   "metadata": {
    "collapsed": false
   },
   "outputs": [
    {
     "name": "stdout",
     "output_type": "stream",
     "text": [
      "wef\n"
     ]
    }
   ],
   "source": [
    "print(re.match('\\w+','wef wef wef ').group()) #댐"
   ]
  },
  {
   "cell_type": "markdown",
   "metadata": {},
   "source": [
    "컴파일 옵션\n",
    "\n",
    "DOTALL(S) - . 이 줄바꿈 문자를 포함하여 모든 문자와 매치할 수 있도록 한다.\n",
    "IGNORECASE(I) - 대소문자에 관계없이 매치할 수 있도록 한다.\n",
    "MULTILINE(M) - 여러줄과 매치할 수 있도록 한다. (^, $ 메타문자의 사용과 관계가 있는 옵션이다)\n",
    "VERBOSE(X) - verbose 모드를 사용할 수 있도록 한다. (정규식을 보기 편하게 만들수 있고 주석등을 사용할 수 있게된다.)\n",
    "\n",
    "re.compile('원하는 정규식',컴파일옵션)   - 이런 식으로 사용하면댐"
   ]
  },
  {
   "cell_type": "code",
   "execution_count": 41,
   "metadata": {
    "collapsed": false
   },
   "outputs": [
    {
     "name": "stdout",
     "output_type": "stream",
     "text": [
      "<_sre.SRE_Match object; span=(0, 3), match='a\\nb'>\n"
     ]
    },
    {
     "data": {
      "text/plain": [
       "<_sre.SRE_Match object; span=(0, 1), match='a'>"
      ]
     },
     "execution_count": 41,
     "metadata": {},
     "output_type": "execute_result"
    }
   ],
   "source": [
    "test=re.compile('a.b',re.S)\n",
    "print(test.match('a\\nb'))\n",
    "re.match('ab*','aaaa',re.S) #이렇게 해도 가능 "
   ]
  },
  {
   "cell_type": "markdown",
   "metadata": {},
   "source": [
    "MULTILINE 사용법을 알기 위해 ^,$ 문자를 알고 가야댐\n",
    "\n",
    "^= 문자의 시작\n",
    "$=문자열의 끝\n",
    "\n",
    "eg)\n",
    "^go\\s\\w+  =시작이 'go ' 그뒤는 아무문자가 와도댐\n",
    "\n",
    "$end = end로 끝나야댐\n"
   ]
  },
  {
   "cell_type": "code",
   "execution_count": 60,
   "metadata": {
    "collapsed": false
   },
   "outputs": [
    {
     "name": "stdout",
     "output_type": "stream",
     "text": [
      "test one\n",
      "['test one']\n"
     ]
    }
   ],
   "source": [
    "text='''test one\n",
    "hahahah\n",
    "test two\n",
    "hohoho\n",
    "this is end'''\n",
    "print(re.match('^test\\s\\w+',text).group())\n",
    "test=re.findall('^test\\s\\w+',text)\n",
    "print(test)"
   ]
  },
  {
   "cell_type": "code",
   "execution_count": 62,
   "metadata": {
    "collapsed": false
   },
   "outputs": [
    {
     "name": "stdout",
     "output_type": "stream",
     "text": [
      "['test one', 'test two']\n"
     ]
    }
   ],
   "source": [
    "test=re.findall('^test\\s\\w+',text,re.M)\n",
    "print(test)"
   ]
  },
  {
   "cell_type": "code",
   "execution_count": 66,
   "metadata": {
    "collapsed": false
   },
   "outputs": [
    {
     "name": "stdout",
     "output_type": "stream",
     "text": [
      "None\n"
     ]
    }
   ],
   "source": [
    "m=re.compile('end$')           #이거 왜안댐?\n",
    "result=m.match(text)\n",
    "print(result)"
   ]
  },
  {
   "cell_type": "markdown",
   "metadata": {},
   "source": [
    "VERBOSE, X = 정규표현식에 주석달 수 있음 자세히 모르게씀\n",
    "\n",
    "\n",
    "\n",
    "\n",
    "\n",
    "\n",
    "\n",
    "\n",
    "\n",
    "백슬래시 문제\n",
    "\n",
    "어떤 문자열 속에서 \\strike를 찾고 싶다.\n",
    "\n",
    "그럼 정규표현을 '\\strike'로 하면 대나?\n",
    "\n",
    "근데 이건 [\\s]trike로 컴터가 해석해버림\n",
    "\n",
    "->이 문제를 막기 위해 '\\\\\\\\strike'로 처리해야댐\n",
    "\n",
    "또는 ''이거 앞에 r을 추가하면댐 (raw string의 약자)\n",
    "\n",
    "r'\\\\strike'로\n",
    "\n",
    "백슬래시를 두개 쳐야댐. 파이썬에서는 \\\\를 '\\'로 인식함\n"
   ]
  },
  {
   "cell_type": "code",
   "execution_count": 68,
   "metadata": {
    "collapsed": false
   },
   "outputs": [
    {
     "name": "stdout",
     "output_type": "stream",
     "text": [
      "<_sre.SRE_Match object; span=(0, 7), match='\\\\strike'>\n"
     ]
    }
   ],
   "source": [
    "m=re.compile(r'\\\\strike')\n",
    "result=m.match('\\strikewefwefewf')\n",
    "print(result)"
   ]
  },
  {
   "cell_type": "markdown",
   "metadata": {},
   "source": [
    "또 다른 기호들\n",
    "------------------------------------------------------------------------------------------------------\n",
    "from 점프 투 파이썬\n",
    "아직 살펴보지 않은 메타 문자들에 대해서 모두 살펴보도록 하자. 여기서 다룰 메타 문자들은 앞에서 살펴보았던 메타 문자들과 성격이 조금 다르다. 이전에 살펴본 메타 문자들은 모두 매치되는 문자열들을 소모시킨다. 이 소모된다는 말의 의미가 조금 헷갈릴 수 있을 것이다. 문자열이 일단 소모되어 버리면 그 부분은 검색 대상에서 제외되지만 소모되지 않는 경우에는 다음에 또 다시 검색 대상이 된다고 생각하면 쉬울 것이다.\n",
    "\n",
    "+, *, [], {} 등의 메타문자는 매치가 진행될 때 현재 매치되고 있는 문자열의 위치가 변경된다. (보통 소모된다고 표현한다.) 하지만 이와 달리 문자열을 소모시키지 않는 메타 문자들도 있다. 이번에는 이런 문자열 소모가 없는(zero-width assertions) 메타 문자들에 대해서 살펴보기로 하자.\n",
    "-----------------------------------------------------------------------------------------------------\n",
    "\n",
    "| = or와 같음\n",
    "'one'|'two' 면 저 두 문자열 중 하나만 포함되어있어도 댐\n",
    "\n",
    "^, $ 시작과 끝을 의미\n",
    "\n",
    "\\a = ^와 같음 그러나, MULTILINE 옵션을 사용했을 경우에도, 전체 문자열의 문장의 시작에서만 유효함. 줄이 바뀌는 것 인정 x\n",
    "\\z = $와 같음. 줄이 바뀌는거 인정 안함\n",
    "\n",
    "\\b = 단어구분자 \\bword\\b면 'word' 단어만 인정  'wewfwordwefwef' 이런거 인정 x\n",
    "\\B = \\b와 반대     \\Bword\\B면 'word'인정 x 다른거 속에 word가 있어야댐\n",
    "\n",
    "\n",
    "\n"
   ]
  },
  {
   "cell_type": "code",
   "execution_count": 82,
   "metadata": {
    "collapsed": false
   },
   "outputs": [
    {
     "name": "stdout",
     "output_type": "stream",
     "text": [
      "two\n",
      "one\n",
      "haha\n",
      "koko\n"
     ]
    }
   ],
   "source": [
    "test=re.compile('one|two')\n",
    "print(test.match('two345').group())\n",
    "print(test.match('one345').group())\n",
    "\n",
    "test=re.search(r'\\bhaha\\b','i want to haha')\n",
    "print(test.group())\n",
    "print(re.search('\\\\Bkoko\\\\B','1koko1 kk').group())     #양 쪽이 다른 문자로 싸여있어야댐"
   ]
  },
  {
   "cell_type": "code",
   "execution_count": 83,
   "metadata": {
    "collapsed": false
   },
   "outputs": [
    {
     "ename": "AttributeError",
     "evalue": "'NoneType' object has no attribute 'group'",
     "output_type": "error",
     "traceback": [
      "\u001b[1;31m---------------------------------------------------------------------------\u001b[0m",
      "\u001b[1;31mAttributeError\u001b[0m                            Traceback (most recent call last)",
      "\u001b[1;32m<ipython-input-83-f37d6806377c>\u001b[0m in \u001b[0;36m<module>\u001b[1;34m()\u001b[0m\n\u001b[0;32m      1\u001b[0m \u001b[1;33m\u001b[0m\u001b[0m\n\u001b[1;32m----> 2\u001b[1;33m \u001b[0mprint\u001b[0m\u001b[1;33m(\u001b[0m\u001b[0mre\u001b[0m\u001b[1;33m.\u001b[0m\u001b[0msearch\u001b[0m\u001b[1;33m(\u001b[0m\u001b[1;34m'\\\\Bkoko\\\\B'\u001b[0m\u001b[1;33m,\u001b[0m\u001b[1;34m'1koko kk'\u001b[0m\u001b[1;33m)\u001b[0m\u001b[1;33m.\u001b[0m\u001b[0mgroup\u001b[0m\u001b[1;33m(\u001b[0m\u001b[1;33m)\u001b[0m\u001b[1;33m)\u001b[0m \u001b[1;31m# -->에러남\u001b[0m\u001b[1;33m\u001b[0m\u001b[0m\n\u001b[0m",
      "\u001b[1;31mAttributeError\u001b[0m: 'NoneType' object has no attribute 'group'"
     ]
    }
   ],
   "source": [
    "\n",
    "print(re.search('\\\\Bkoko\\\\B','1koko kk').group()) # -->에러남"
   ]
  },
  {
   "cell_type": "markdown",
   "metadata": {},
   "source": [
    "여태까지는 한 문자의 반복만 검사할 수 있었음\n",
    "\n",
    "특정 문자들이 같이 반복되는지 검사하는 방법\n",
    "\n",
    "그루핑\n",
    "\n",
    "()를 통해 사용 가능\n",
    "\n",
    "eg)(ABC)+  "
   ]
  },
  {
   "cell_type": "code",
   "execution_count": 87,
   "metadata": {
    "collapsed": false
   },
   "outputs": [
    {
     "name": "stdout",
     "output_type": "stream",
     "text": [
      "<_sre.SRE_Match object; span=(0, 6), match='abcabc'>\n"
     ]
    }
   ],
   "source": [
    "m=re.compile('(abc)+')\n",
    "result=m.search('abcabc')\n",
    "print(result)"
   ]
  },
  {
   "cell_type": "raw",
   "metadata": {},
   "source": [
    "그루핑 해준거에 번호매길 수 있음\n",
    "\n",
    "group(인덱스)\t설명\n",
    "group(0)\t매치된 전체 문자열\n",
    "group(1)\t첫 번째 그룹에 해당되는 문자열\n",
    "group(2)\t두 번째 그룹에 해당되는 문자열\n",
    "group(n)\tn 번째 그룹에 해당되는 문자열\n",
    "\n"
   ]
  },
  {
   "cell_type": "code",
   "execution_count": 89,
   "metadata": {
    "collapsed": false
   },
   "outputs": [
    {
     "data": {
      "text/plain": [
       "'최병주 010-2337-8967'"
      ]
     },
     "execution_count": 89,
     "metadata": {},
     "output_type": "execute_result"
    }
   ],
   "source": [
    "p=re.compile(r'\\w+\\s\\d{3}[-]\\d+[-]\\d{4}')\n",
    "result=p.match('최병주 010-2337-8967')\n",
    "result.group()"
   ]
  },
  {
   "cell_type": "code",
   "execution_count": 94,
   "metadata": {
    "collapsed": false
   },
   "outputs": [
    {
     "name": "stdout",
     "output_type": "stream",
     "text": [
      "최병주 010-2337-8967\n",
      "최병주\n",
      "010-2337-8967\n"
     ]
    }
   ],
   "source": [
    "p=re.compile(r'(\\w+)\\s(\\d{3}[-]\\d+[-]\\d{4})')     #(\\w+)  이름에 그루핑해줌\n",
    "result=p.match('최병주 010-2337-8967')\n",
    "print(result.group())\n",
    "\n",
    "print(result.group(1))\n",
    "print(result.group(2))"
   ]
  },
  {
   "cell_type": "markdown",
   "metadata": {},
   "source": [
    "재참조와 그루핑에 이름 붙이기\n",
    "\n",
    "재참조 \\1 \\2 이런식으로 하면댐.\n",
    "\n",
    "\\1 = 첫번쨰 그룹과 동일한 단어\n",
    "\n",
    "\\2 = 두번쨰 그룹과 동일한 단어 \n",
    "\n",
    "이름은\n",
    "?P<name>를 앞에 추가하면 됨\n",
    "\n",
    "\n",
    "(\\w+) --> (?P<name>\\w+)\n"
   ]
  },
  {
   "cell_type": "code",
   "execution_count": 97,
   "metadata": {
    "collapsed": false
   },
   "outputs": [
    {
     "name": "stdout",
     "output_type": "stream",
     "text": [
      "<_sre.SRE_Match object; span=(0, 21), match='hororororo hororororo'>\n"
     ]
    }
   ],
   "source": [
    "## \\b와 \\s의 차이가 머임?    ->\\s는 무조건 스페이스, \\b는 앞이 비어있으면댐 (문자열의 시작도 ok)  인듯.\n",
    "\n",
    "p=re.compile(r'(\\b\\w+)\\s+\\1')     #\\1이 \\b\\w+로 대체댐\n",
    "result=p.search('hororororo hororororo')\n",
    "print(result)\n",
    "\n"
   ]
  },
  {
   "cell_type": "code",
   "execution_count": 102,
   "metadata": {
    "collapsed": false
   },
   "outputs": [
    {
     "name": "stdout",
     "output_type": "stream",
     "text": [
      "최병주\n"
     ]
    }
   ],
   "source": [
    "p=re.compile(r'(?P<name>\\b\\w+).+')\n",
    "text=('최병주 129312312')\n",
    "result=p.search(text)\n",
    "print(result.group('name'))"
   ]
  },
  {
   "cell_type": "markdown",
   "metadata": {},
   "source": [
    "전방탐색\n",
    "\n",
    "다음 문자를 미리 검사하는 것.\n",
    "\n",
    "특정 문자가 나오면 탐색을 종료하고 싶으나, 그 문자는 결과에 포함하고 싶지 않을 경우 사용\n",
    "\n",
    "긍정형 전방 탐색((?=...)) - ... 에 해당되는 정규식과 매치되어야 하며 조건이 통과되어도 문자열이 소모되지 않는다.\n",
    "부정형 전방 탐색((?!...)) - ...에 해당되는 정규식과 매치되지 않아야 하며 조건이 통과되어도 문자열이 소모되지 않는다."
   ]
  },
  {
   "cell_type": "code",
   "execution_count": 107,
   "metadata": {
    "collapsed": false
   },
   "outputs": [
    {
     "name": "stdout",
     "output_type": "stream",
     "text": [
      "<_sre.SRE_Match object; span=(0, 7), match='sofjsdf'>\n"
     ]
    }
   ],
   "source": [
    "p=re.compile('.+(?=:)')\n",
    "result=p.match('sofjsdf:wejowefj')\n",
    "print(result)"
   ]
  },
  {
   "cell_type": "code",
   "execution_count": 112,
   "metadata": {
    "collapsed": false
   },
   "outputs": [
    {
     "name": "stdout",
     "output_type": "stream",
     "text": [
      "<_sre.SRE_Match object; span=(0, 4), match='test'>\n",
      "None\n"
     ]
    }
   ],
   "source": [
    "p=re.compile('test(?!:)')\n",
    "result=p.match('testwejofwejfo')\n",
    "\n",
    "print(result)\n",
    "\n",
    "result=p.match('test:wejofwejfo')\n",
    "\n",
    "print(result)"
   ]
  },
  {
   "cell_type": "markdown",
   "metadata": {},
   "source": [
    "문자열 바꾸기\n",
    "sub 메서드를 이용\n",
    "다음의 예를 보자\n",
    "\n",
    "\n",
    ">>> p = re.compile('(blue|white|red)')\n",
    ">>> p.sub('colour', 'blue socks and red shoes')\n",
    "'colour socks and colour shoes'\n",
    "sub 메서드의 첫 번째 입력 인수는 \"바꿀 문자열(replacement)\"이 되고, 두 번째 입력 인수는 \"대상 문자열\"이 된다. 위 예에서 볼 수 있듯이 blue 또는 white 또는 red라는 문자열이 colour라는 문자열로 바뀌는 것을 확인할 수 있다.\n",
    "\n",
    "그런데 딱 한 번만 바꾸고 싶은 경우도 있다. 이렇게 바꾸기 횟수를 제어하려면 다음과 같이 세 번째 입력 인수로 count 값을 넘기면 된다.\n",
    "\n",
    ">>> p.sub('colour', 'blue socks and red shoes', count=1)\n",
    "'colour socks and red shoes'\n",
    "처음 일치하는 blue만 colour라는 문자열로 한 번만 바꾸기가 실행됨을 알 수 있다.\n",
    "\n",
    "[sub 메서드와 유사한 subn 메서드]\n",
    "\n",
    "subn 역시 sub와 동일한 기능을 하지만 리턴되는 결과를 튜플로 리턴한다는 차이가 있다. 리턴된 튜플의 첫 번째 요소는 변경된 문자열이고, 두 번째 요소는 바꾸기가 발생한 횟수이다.\n",
    "\n",
    ">>> p = re.compile('(blue|white|red)')\n",
    ">>> p.subn( 'colour', 'blue socks and red shoes')\n",
    "('colour socks and colour shoes', 2)\n",
    "sub 메서드 사용 시 참조 구문 사용하기\n",
    "\n",
    "sub 메서드를 사용할 때 참조 구문을 사용할 수 있다. 다음의 예를 보자.\n",
    "\n",
    ">>> p = re.compile(r\"(?P<name>\\w+)\\s+(?P<phone>(\\d+)[-]\\d+[-]\\d+)\")\n",
    ">>> print(p.sub(\"\\g<phone> \\g<name>\", \"park 010-1234-1234\"))\n",
    "010-1234-1234 park\n",
    "위 예는 이름 + 전화번호의 문자열을 전화번호 + 이름으로 바꾸는 예이다. sub의 바꿀 문자열 부분에 \\g<그룹명>을 이용하면 정규식의 그룹명을 참조할 수 있게된다.\n",
    "\n",
    "다음과 같이 그룹명 대신 참조번호를 이용해도 마찬가지 결과가 리턴된다.\n",
    "\n",
    ">>> p = re.compile(r\"(?P<name>\\w+)\\s+(?P<phone>(\\d+)[-]\\d+[-]\\d+)\")\n",
    ">>> print(p.sub(\"\\g<2> \\g<1>\", \"park 010-1234-1234\"))\n",
    "010-1234-1234 park\n",
    "sub 메서드의 입력 인수로 함수 넣기\n",
    "\n",
    "sub 메서드의 첫 번째 입력 인수로 함수를 넣을 수도 있다. 다음의 예를 보자.\n",
    "\n",
    ">>> def hexrepl(match):\n",
    "...     \"Return the hex string for a decimal number\"\n",
    "...     value = int(match.group())\n",
    "...     return hex(value)\n",
    "...\n",
    ">>> p = re.compile(r'\\d+')\n",
    ">>> p.sub(hexrepl, 'Call 65490 for printing, 49152 for user code.')\n",
    "'Call 0xffd2 for printing, 0xc000 for user code.'\n",
    "hexrepl 함수는 match 객체(위에서 숫자에 매치되는)를 입력으로 받아 16진수로 변환하여 리턴하는 함수이다. sub의 첫 번째 입력 인수로 함수를 사용할 경우 해당 함수의 첫 번째 입력 인수에는 정규식과 매치된 match 객체가 입력된다. 그리고 매치되는 문자열은 함수의 리턴값으로 바뀌게 된다.\n",
    "\n",
    "Greedy vs Non-Greedy\n",
    "정규식에서 Greedy(탐욕스러운)란 어떤 의미일까? 다음의 예제를 보자.\n",
    "\n",
    ">>> s = '<html><head><title>Title</title>'\n",
    ">>> len(s)\n",
    "32\n",
    ">>> print(re.match('<.*>', s).span())\n",
    "(0, 32)\n",
    ">>> print(re.match('<.*>', s).group())\n",
    "<html><head><title>Title</title>\n",
    "<.*> 정규식의 매치결과로 <html> 문자열이 리턴되기를 기대했을 것이다. 하지만 * 메타문자는 매우 탐욕스러워서 매치할 수 있는 최대한의 문자열인 <html><head><title>Title</title> 문자열을 모두 소모시켜 버렸다. 어떻게 하면 이 탐욕스러움을 제한하고 <html> 이라는 문자열까지만 소모되도록 막을 수 있을까?\n",
    "\n",
    "다음과 같이 non-greedy 문자인 ?을 사용하면 *의 탐욕을 제한할 수 있다.\n",
    "\n",
    ">>> print(re.match('<.*?>', s).group())\n",
    "<html>\n",
    "non-greedy 문자인 ?은 *?, +?, ??, {m,n}?과 같이 사용할 수 있다. 가능한 한 가장 최소한의 반복을 수행하도록 도와주는 역할을 한다."
   ]
  },
  {
   "cell_type": "code",
   "execution_count": 113,
   "metadata": {
    "collapsed": false
   },
   "outputs": [
    {
     "data": {
      "text/plain": [
       "'number number number kyakyakya'"
      ]
     },
     "execution_count": 113,
     "metadata": {},
     "output_type": "execute_result"
    }
   ],
   "source": [
    "p=re.compile('one|two|three')\n",
    "p.sub('number','one two three kyakyakya')"
   ]
  },
  {
   "cell_type": "code",
   "execution_count": null,
   "metadata": {
    "collapsed": true
   },
   "outputs": [],
   "source": []
  }
 ],
 "metadata": {
  "kernelspec": {
   "display_name": "Python 3",
   "language": "python",
   "name": "python3"
  },
  "language_info": {
   "codemirror_mode": {
    "name": "ipython",
    "version": 3
   },
   "file_extension": ".py",
   "mimetype": "text/x-python",
   "name": "python",
   "nbconvert_exporter": "python",
   "pygments_lexer": "ipython3",
   "version": "3.5.1"
  }
 },
 "nbformat": 4,
 "nbformat_minor": 0
}
