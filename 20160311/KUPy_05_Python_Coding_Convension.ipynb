{
 "cells": [
  {
   "cell_type": "markdown",
   "metadata": {},
   "source": [
    "# 파이썬 코딩컨벤션\n"
   ]
  },
  {
   "cell_type": "code",
   "execution_count": 2,
   "metadata": {
    "collapsed": true
   },
   "outputs": [],
   "source": [
    "# something..."
   ]
  },
  {
   "cell_type": "markdown",
   "metadata": {},
   "source": [
    "## 참고\n",
    "1. [PEP8 by Guido van Rossum](http://legacy.python.org/dev/peps/pep-0008/)\n",
    "2. [Google Python Style Guide](https://google.github.io/styleguide/pyguide.html)\n",
    "3. [Popular Coding Convention on Github](http://sideeffect.kr/popularconvention#python)\n",
    "4. [파이썬 코딩 컨벤션 - Spoqa 기술 블로그](http://spoqa.github.io/2012/08/03/about-python-coding-convention.html)"
   ]
  },
  {
   "cell_type": "code",
   "execution_count": null,
   "metadata": {
    "collapsed": true
   },
   "outputs": [],
   "source": []
  }
 ],
 "metadata": {
  "kernelspec": {
   "display_name": "Python 3",
   "language": "python",
   "name": "python3"
  },
  "language_info": {
   "codemirror_mode": {
    "name": "ipython",
    "version": 3
   },
   "file_extension": ".py",
   "mimetype": "text/x-python",
   "name": "python",
   "nbconvert_exporter": "python",
   "pygments_lexer": "ipython3",
   "version": "3.4.2"
  }
 },
 "nbformat": 4,
 "nbformat_minor": 0
}
