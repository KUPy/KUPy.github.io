{
 "cells": [
  {
   "cell_type": "markdown",
   "metadata": {},
   "source": [
    "# 파이썬 기초 및 개발환경셋팅\n",
    "\n",
    "\n",
    "### 파이썬이란?\n",
    "\n",
    "- 고대 신화에 나오는 파르나소스 산의 동굴에 살던 큰 뱀을 뜻하며, 아폴로 신이 델파이에서 파이썬을 퇴치했다는 이야기가 전해진다.\n",
    "- 1990년 암스테르담의 귀도 반 로섬(Guido Van Rossum)이 개발한 인터프리터 언어\n",
    "- 코미디 쇼 \"몬티 파이썬의 날아다니는 서커스(Monty Python’s Flying Circus)\"\n",
    "\n",
    "\n",
    "\n",
    "### 파이썬의 특징\n",
    "- 인간적이다\n",
    "- **문법이 쉽다**\n",
    "- 오픈소스다\n",
    "- 파이썬은 간결하다\n",
    "- 파이썬은 프로그래밍을 즐기게 해준다\n",
    "- **파이썬은 개발속도가 빠르다**\n",
    "\n",
    "\n",
    "### 파이썬으로 할 수 있는 일\n",
    "- 시스템 유틸리티 제작\n",
    "- GUI 프로그래밍\n",
    "- C/C++와의 결합\n",
    "- 웹 프로그래밍\n",
    "- 수치 연산 프로그래밍\n",
    "- 데이터베이스 프로그래밍\n",
    "- 데이터 분석, 사물 인터넷\n",
    "\n",
    "\n",
    "### 파이썬으로 할 수 없는 일\n",
    "- 시스템과 밀접한 프로그래밍 영역\n",
    "- 모바일 프로그래밍"
   ]
  },
  {
   "cell_type": "markdown",
   "metadata": {},
   "source": [
    "# 이제 파이썬을 설치해봅시다!\n",
    "\n",
    "## 파이썬 유저라면 알아두면 좋을 개발용 패키지들\n",
    "\n",
    "\n",
    "### pyenv\n",
    "- Simple Python Version Management\n",
    "\n",
    "### virtualenv\n",
    "- A tool to create isolated Python environments.\n",
    "\n",
    "### Anaconda\n",
    "- A completely free Python distribution which includes more than 400 of the most popular Python packages for science, math, engineering, and data analysis.\n",
    "\n",
    "### ipython\n",
    "- A powerful interactive shell.\n",
    "- A kernel for Jupyter.\n",
    "- Support for interactive data visualization and use of GUI toolkits.\n",
    "- Flexible, embeddable interpreters to load into your own projects.\n",
    "- Easy to use, high performance tools for parallel computing.\n",
    "\n",
    "### Jupyter Notebook\n",
    "- A web application that allows you to create and share documents that contain live code, equations, visualizations and explanatory text.\n"
   ]
  },
  {
   "cell_type": "code",
   "execution_count": 4,
   "metadata": {
    "collapsed": false
   },
   "outputs": [
    {
     "name": "stdout",
     "output_type": "stream",
     "text": [
      "Hello World!\n"
     ]
    }
   ],
   "source": [
    "print (\"Hello World!\")"
   ]
  },
  {
   "cell_type": "code",
   "execution_count": null,
   "metadata": {
    "collapsed": true
   },
   "outputs": [],
   "source": []
  }
 ],
 "metadata": {
  "kernelspec": {
   "display_name": "Python 2",
   "language": "python",
   "name": "python2"
  },
  "language_info": {
   "codemirror_mode": {
    "name": "ipython",
    "version": 2
   },
   "file_extension": ".py",
   "mimetype": "text/x-python",
   "name": "python",
   "nbconvert_exporter": "python",
   "pygments_lexer": "ipython2",
   "version": "2.7.3"
  }
 },
 "nbformat": 4,
 "nbformat_minor": 0
}
