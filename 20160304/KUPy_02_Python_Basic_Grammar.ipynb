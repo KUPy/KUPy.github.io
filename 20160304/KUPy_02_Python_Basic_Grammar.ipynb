{
 "cells": [
  {
   "cell_type": "markdown",
   "metadata": {
    "collapsed": true
   },
   "source": [
    "# 파이썬의 기본 자료형\n",
    "1. 숫자형\n",
    "2. 문자열 자료형\n",
    "3. 리스트 자료형\n",
    "4. 튜플 자료형\n",
    "5. 딕셔너리 자료형\n",
    "6. 집합 자료형\n",
    "7. 자료형의 참과 거짓\n",
    "8. 자료형의 값을 저장하는 공간, 변수"
   ]
  },
  {
   "cell_type": "markdown",
   "metadata": {},
   "source": [
    "### 숫자형\n",
    "- 정수형, 실수형, 8진수 16진수, 복소수, 연산자"
   ]
  },
  {
   "cell_type": "code",
   "execution_count": null,
   "metadata": {
    "collapsed": false,
    "scrolled": false
   },
   "outputs": [],
   "source": [
    "a= 123\n",
    "a= -178\n",
    "a= 1.2\n",
    "a=4.2e-10\n",
    "\n",
    "a=0o171\n",
    "a=0xABC\n",
    "\n",
    "a=1+2j\n",
    "b=1-2j\n",
    "print(a.real)\n",
    "print(a.imag)\n",
    "print(a.conjugate())\n",
    "print(abs(a))\n",
    "print(a*b)\n",
    "\n",
    "print(3**3)\n",
    "print(7/5)\n",
    "print(7//5)"
   ]
  },
  {
   "cell_type": "markdown",
   "metadata": {},
   "source": [
    "## 문자열 "
   ]
  },
  {
   "cell_type": "markdown",
   "metadata": {},
   "source": [
    "따옴표에 관한 고찰"
   ]
  },
  {
   "cell_type": "code",
   "execution_count": null,
   "metadata": {
    "collapsed": false
   },
   "outputs": [],
   "source": [
    "\"Python is 'fun'\"\n",
    "#'Python is 'fun''\n",
    "\"Python is \\\"fun\\\"\""
   ]
  },
  {
   "cell_type": "markdown",
   "metadata": {},
   "source": [
    "개행"
   ]
  },
  {
   "cell_type": "code",
   "execution_count": null,
   "metadata": {
    "collapsed": false
   },
   "outputs": [],
   "source": [
    "multi='life\\nis\\ngood'\n",
    "print(multi)\n",
    "\n",
    "\"\"\"\n",
    "multi='''life\n",
    "is\n",
    "good'''\n",
    "print(multi)\n",
    "\"\"\""
   ]
  },
  {
   "cell_type": "markdown",
   "metadata": {},
   "source": [
    "문자열 곱하기"
   ]
  },
  {
   "cell_type": "code",
   "execution_count": null,
   "metadata": {
    "collapsed": false
   },
   "outputs": [],
   "source": [
    "print(\"=\" * 50)\n",
    "print(\"My Program\")\n",
    "print(\"=\" * 50)"
   ]
  },
  {
   "cell_type": "markdown",
   "metadata": {},
   "source": [
    "문자열 인덱싱/ 슬라이싱"
   ]
  },
  {
   "cell_type": "code",
   "execution_count": null,
   "metadata": {
    "collapsed": false
   },
   "outputs": [],
   "source": [
    "a='shut up and love python'\n",
    "a[-1]"
   ]
  },
  {
   "cell_type": "code",
   "execution_count": null,
   "metadata": {
    "collapsed": false
   },
   "outputs": [],
   "source": [
    "a='shut up and love python'\n",
    "a[0:4]"
   ]
  },
  {
   "cell_type": "code",
   "execution_count": null,
   "metadata": {
    "collapsed": false
   },
   "outputs": [],
   "source": [
    "a='python'\n",
    "a[1]=b"
   ]
  },
  {
   "cell_type": "code",
   "execution_count": null,
   "metadata": {
    "collapsed": false,
    "scrolled": true
   },
   "outputs": [],
   "source": [
    "a='sure'\n",
    "b=10.5\n",
    "print(\"I am %s%% %s\"% (b,a))\n",
    "\n",
    "print(\"I am {number}% {word}\" .format(number=20, word='sure'))"
   ]
  },
  {
   "cell_type": "markdown",
   "metadata": {},
   "source": [
    "## list자료형"
   ]
  },
  {
   "cell_type": "markdown",
   "metadata": {},
   "source": [
    "위 문자열과 비슷한 규칙을 보임"
   ]
  },
  {
   "cell_type": "code",
   "execution_count": null,
   "metadata": {
    "collapsed": true
   },
   "outputs": [],
   "source": [
    "a = [1, 2, 3, ['a', 'b', 'c']]\n",
    "a[-1][0]\n",
    "#a[0:2]"
   ]
  },
  {
   "cell_type": "markdown",
   "metadata": {},
   "source": [
    "요소값 삭제"
   ]
  },
  {
   "cell_type": "code",
   "execution_count": null,
   "metadata": {
    "collapsed": false
   },
   "outputs": [],
   "source": [
    "a=[1,2,3,4,5]\n",
    "del a[1]\n",
    "a[1:3]=[]\n",
    "a"
   ]
  },
  {
   "cell_type": "code",
   "execution_count": null,
   "metadata": {
    "collapsed": false
   },
   "outputs": [],
   "source": [
    "[a,b,c]=[1,2,3]\n",
    "print(a,b,c)"
   ]
  },
  {
   "cell_type": "markdown",
   "metadata": {},
   "source": [
    "이 외에\n",
    "- .append(), .sort(), .reverse(), .index(x), .insert(x), .remove(x), pop(x), .count(x), extend(list)\n",
    "등의 함수가 있다"
   ]
  },
  {
   "cell_type": "markdown",
   "metadata": {},
   "source": [
    "## 튜플자료형\n",
    "튜플(tuple)은 몇 가지 점을 제외하곤 리스트와 거의 비슷하며 리스트와 다른 점은 다음과 같다.\n",
    "- 리스트는 [과 ]으로 둘러싸지만 튜플은 (과 )으로 둘러싼다.\n",
    "- 리스트는 그 값의 생성, 삭제, 수정이 가능하지만 튜플은 __그 값을 바꿀 수 없다.__\n"
   ]
  },
  {
   "cell_type": "code",
   "execution_count": null,
   "metadata": {
    "collapsed": true
   },
   "outputs": [],
   "source": [
    "t1 = ()\n",
    "t2 = (1,)\n",
    "t3 = (1, 2, 3)\n",
    "t4 = 1, 2, 3\n",
    "t5 = ('a', 'b', ('ab', 'cd'))"
   ]
  },
  {
   "cell_type": "code",
   "execution_count": null,
   "metadata": {
    "collapsed": false
   },
   "outputs": [],
   "source": [
    "a=1,2\n",
    "a[0]=0"
   ]
  },
  {
   "cell_type": "markdown",
   "metadata": {},
   "source": [
    "#### 튜플을 이용, 변수값 대입 가능"
   ]
  },
  {
   "cell_type": "code",
   "execution_count": null,
   "metadata": {
    "collapsed": false
   },
   "outputs": [],
   "source": [
    "(x,y)=(1,2)\n",
    "x,y=y,x\n",
    "x"
   ]
  },
  {
   "cell_type": "code",
   "execution_count": null,
   "metadata": {
    "collapsed": false
   },
   "outputs": [],
   "source": [
    "def func1():\n",
    "    return 1,2,3\n",
    "a,b,c= func1()\n",
    "print(a)\n",
    "print(b)\n",
    "print(c)\n"
   ]
  },
  {
   "cell_type": "markdown",
   "metadata": {},
   "source": [
    "## 딕셔너리자료형"
   ]
  },
  {
   "cell_type": "markdown",
   "metadata": {},
   "source": [
    "- 키와 밸류형태로 이루어져있으며 쉼표로 구분되어있다.\n",
    "- 딕셔너리에서 순서는 없다 (인덱싱x)\n",
    "- Key에는 변하지 않는 값을 사용하고, Value에는 변수, 상수 모두 사용 가능\n",
    "- {Key1:Value1, Key2:Value2, Key3:Value3 ...}"
   ]
  },
  {
   "cell_type": "code",
   "execution_count": null,
   "metadata": {
    "collapsed": false
   },
   "outputs": [],
   "source": [
    "a={1:'a'}\n",
    "a[2]='b'\n",
    "a"
   ]
  },
  {
   "cell_type": "markdown",
   "metadata": {},
   "source": [
    "딕셔너리는 1:1대응이 되는 자료형을 굉장히 편리하게 정리할 수 있다\n",
    "예를 들어 각 사람 이름과 나이를 리스트로 정리해놓고 사람 이름을 입력하면 나이를 출력해주는 프로그램을 만들어 보겟다"
   ]
  },
  {
   "cell_type": "code",
   "execution_count": 6,
   "metadata": {
    "collapsed": false
   },
   "outputs": [
    {
     "name": "stdout",
     "output_type": "stream",
     "text": [
      "20\n"
     ]
    }
   ],
   "source": [
    "a=['철수','영희','근혜']\n",
    "b=[20,25,48]\n",
    "def findName(name):\n",
    "    for i in range(0,3):\n",
    "        if a[i]==name:\n",
    "            print (b[i])\n",
    "findName('철수')\n"
   ]
  },
  {
   "cell_type": "markdown",
   "metadata": {},
   "source": [
    "#### 주의사항\n",
    "- 같은 key를 사용하면 안된다\n",
    "- key에 리스트는 불가능! but 튜플은 가능\n",
    "딕셔너리에 사용하는 함수 몇개만 소개하겠다"
   ]
  },
  {
   "cell_type": "code",
   "execution_count": null,
   "metadata": {
    "collapsed": false
   },
   "outputs": [],
   "source": [
    "a = {'name': 'pey', 'phone': '0119993323', 'birth': '11월18일'}\n",
    "print(a.keys())\n",
    "print(a.items())\n",
    "print(a.get('birth'))\n",
    "print('email' in a)\n",
    "print(a.clear())\n",
    "print(a.get('birth',0))\n"
   ]
  },
  {
   "cell_type": "markdown",
   "metadata": {},
   "source": [
    "## 집합자료형\n",
    "- 중복을 허용하지 않는다 (자료 중복을 제거하는 필터로도 종종 사용된다)\n",
    "- 수서가 없다 (인덱싱지원x)\n",
    "- set키워드로 만든다"
   ]
  },
  {
   "cell_type": "code",
   "execution_count": null,
   "metadata": {
    "collapsed": false
   },
   "outputs": [],
   "source": [
    "s1=set([1,2,3])\n",
    "print(s1)\n",
    "s2=set(\"Hello\")\n",
    "print(s2)"
   ]
  },
  {
   "cell_type": "markdown",
   "metadata": {},
   "source": [
    "집합의 연산. 중1 집합에서 배웠던 그 내용과 유사"
   ]
  },
  {
   "cell_type": "code",
   "execution_count": null,
   "metadata": {
    "collapsed": false
   },
   "outputs": [],
   "source": [
    "s1 = set([1, 2, 3, 4, 5, 6])\n",
    "s2 = set([4, 5, 6, 7, 8, 9])\n",
    "\n",
    "#교집합\n",
    "print(s1&s2)\n",
    "#합집합\n",
    "print(s1|s2)\n",
    "#차집합\n",
    "print(s1-s2)\n",
    "#intersection, defference 합수를 이용해도 되지만 위가 더 편함\n",
    "\n"
   ]
  },
  {
   "cell_type": "code",
   "execution_count": null,
   "metadata": {
    "collapsed": false
   },
   "outputs": [],
   "source": [
    "#값 추가하기\n",
    "s1.add(7)\n",
    "print(s1)\n",
    "#값 여러개 추가하기\n",
    "s1.update([7,8,9])\n",
    "print(s1)\n",
    "#값 제거하기\n",
    "s1.remove(9)\n",
    "print(s1)"
   ]
  },
  {
   "cell_type": "markdown",
   "metadata": {},
   "source": [
    "## 자료형의 참과 거짓\n",
    "\n",
    "- \"python\"\t참\n",
    "- \"\"\t        거짓\n",
    "- [1, 2, 3]\t참\n",
    "- []\t        거짓\n",
    "- ()       \t거짓\n",
    "- {}\t        거짓\n",
    "- 1\t        참\n",
    "- 0\t        거짓\n",
    "- None\t    거짓\n",
    "\n",
    "### 이렇게 사용한다"
   ]
  },
  {
   "cell_type": "code",
   "execution_count": null,
   "metadata": {
    "collapsed": false
   },
   "outputs": [],
   "source": [
    "#파이썬에서 자주 사용되는 기법이랍니다\n",
    "a = [1,2,3,4]\n",
    "while a:\n",
    "    print(a.pop())"
   ]
  },
  {
   "cell_type": "markdown",
   "metadata": {},
   "source": [
    "### 파이썬 변수 선언의 특이한 점!!\n",
    "a=3은\n",
    "변수 a는 3이라는 정수형 객체가 저장된 메모리를 가리키는 레퍼런스\n"
   ]
  },
  {
   "cell_type": "code",
   "execution_count": null,
   "metadata": {
    "collapsed": false
   },
   "outputs": [],
   "source": [
    "a = [1,2,3]\n",
    "b = a\n",
    "a[1] = 4\n",
    "print(a)\n",
    "print(b)"
   ]
  },
  {
   "cell_type": "code",
   "execution_count": null,
   "metadata": {
    "collapsed": false
   },
   "outputs": [],
   "source": [
    "b=a[:] #혹은 copy 모듈도 이용 가능하다\n",
    "a[1]=5\n",
    "print(a)\n",
    "print(b)"
   ]
  },
  {
   "cell_type": "markdown",
   "metadata": {},
   "source": [
    "# 제어문"
   ]
  },
  {
   "cell_type": "markdown",
   "metadata": {},
   "source": [
    "## if문\n",
    "쉬우니깐 예제 하나로 다설명하겠다\n",
    "인덴트에만 주의하면 된다"
   ]
  },
  {
   "cell_type": "code",
   "execution_count": null,
   "metadata": {
    "collapsed": false
   },
   "outputs": [],
   "source": [
    "pocket = ['paper', 'cellphone']\n",
    "card = 1\n",
    "if 'money' in pocket: #파이썬만의 독특한, 직관적 문법\n",
    "     print(\"택시를 타고가라\")\n",
    "elif card: #else if 의 대체제\n",
    "     print(\"택시를 타고가라\") #이거 대신 pass를 넣어보자\n",
    "else:\n",
    "     print(\"걸어가라\")"
   ]
  },
  {
   "cell_type": "markdown",
   "metadata": {},
   "source": [
    "## while문\n",
    "이것도 설명할 부분은 딱히 없고\n",
    "C랑은 다르게 \n",
    "while count<10: 요런식으로 괄호가 없고 콜론이 있다 \n",
    "아, 그리고 count++ 이거 안된다!"
   ]
  },
  {
   "cell_type": "markdown",
   "metadata": {},
   "source": [
    "## for문\n",
    "좀 다르다. 다른 언어보다 직관적이다. 그래서 처음에는 조금 헷갈린다"
   ]
  },
  {
   "cell_type": "code",
   "execution_count": null,
   "metadata": {
    "collapsed": false
   },
   "outputs": [],
   "source": [
    "test_list = ['one', 'two', 'three'] \n",
    "for i in test_list: #요런식으로 초기값, 조건문, 증감식 다 필요없다\n",
    "    print(i)"
   ]
  },
  {
   "cell_type": "code",
   "execution_count": null,
   "metadata": {
    "collapsed": false
   },
   "outputs": [],
   "source": [
    "list = [(1, 2, 3),(4, 5, 6)]\n",
    "for (first, second, third) in list: #요런식으로 튜플 이용도 가능\n",
    "    print(first + second + third)"
   ]
  },
  {
   "cell_type": "code",
   "execution_count": null,
   "metadata": {
    "collapsed": false
   },
   "outputs": [],
   "source": [
    "a = [(1,2), (3,4), (5,6)]\n",
    "for (first, last) in a:\n",
    "    print(first + last)"
   ]
  },
  {
   "cell_type": "markdown",
   "metadata": {},
   "source": [
    "for문 정의시 range 함수도 자주 쓰인다"
   ]
  },
  {
   "cell_type": "code",
   "execution_count": null,
   "metadata": {
    "collapsed": false
   },
   "outputs": [],
   "source": [
    "# for(int i=0; i<10; i++) 대신\n",
    "for i in range(0,10): #을 쓴다. 동일한 의미 range(10)만 사용해도 된다"
   ]
  },
  {
   "cell_type": "code",
   "execution_count": null,
   "metadata": {
    "collapsed": false
   },
   "outputs": [],
   "source": [
    "#예제 하나 더\n",
    "list=[\"가\",\"나\",\"다\"]\n",
    "for i in range(len(list)): #C에서 i<len(list)랑 똑같은말\n",
    "    print(list[i], end='') #end=\"\"로 자동 개행을 막을 수 있다"
   ]
  },
  {
   "cell_type": "code",
   "execution_count": null,
   "metadata": {
    "collapsed": false
   },
   "outputs": [],
   "source": [
    "#좀 특이했던 점은 리스트 안에 for문을 넣을 수 있다는 것\n",
    "list=[1,2,3]\n",
    "list2=[ num+1 for num in list]\n",
    "list2"
   ]
  },
  {
   "cell_type": "markdown",
   "metadata": {},
   "source": [
    "## 함수\n",
    "def 함수명 (인수): <br>\n",
    "&nbsp;  &nbsp;  수행문장\n",
    "    "
   ]
  },
  {
   "cell_type": "code",
   "execution_count": null,
   "metadata": {
    "collapsed": false
   },
   "outputs": [],
   "source": [
    "#인수 앞에 *를 붙이면 입력값을 몇개 넣든 상관없어진다\n",
    "def sum (*args): \n",
    "    sum=0\n",
    "    for i in args:\n",
    "        sum=sum+i\n",
    "    return sum\n",
    "sum(2,3,4,5)"
   ]
  },
  {
   "cell_type": "code",
   "execution_count": null,
   "metadata": {
    "collapsed": false
   },
   "outputs": [],
   "source": [
    "#이런 식도 가능\n",
    "def sub (total, *args):\n",
    "    for i in args:\n",
    "        total=total-i\n",
    "    return total\n",
    "sub(2,3,4,5)"
   ]
  },
  {
   "cell_type": "code",
   "execution_count": null,
   "metadata": {
    "collapsed": false
   },
   "outputs": [],
   "source": [
    "#이런식으로 초기값을 주는 것도 가능\n",
    "def mult (a,b,c=0):\n",
    "    return a*b*c\n",
    "mult (10,10)\n",
    "#단 초기값이 있는 인수는 맨 뒤로 가야함"
   ]
  },
  {
   "cell_type": "markdown",
   "metadata": {},
   "source": [
    "아 그리고 마지막으로, 파이썬의 함수는 포인터 개념이 없기에 call by reference가 불가능하다. 그래서 함수에서 값을 넘기려면 무조건 리턴값을 이용해야한다. global 변수 선언의 방법도 있는데 잘 쓰이지 않는다"
   ]
  },
  {
   "cell_type": "markdown",
   "metadata": {},
   "source": [
    "## 사용자 입출력\n",
    "- input은 입력되는 모든 것을 문자열로 취급한다 (2.7의경우 raw_input)\n",
    "- input()이나 input(\"입력해주세요: \")식으로도 사용가능\n",
    "- print는 뭐 특별한거없음.. 띄어쓰기를 콤마로 한다는점 정도? (\"hey\", guys\")"
   ]
  },
  {
   "cell_type": "markdown",
   "metadata": {},
   "source": [
    "## 파일 입출력\n",
    "- f = open(\"새파일.txt\", 'w') 이런식. 모드가 r, w, a밖에 없음\n",
    "- f.close()로 닫음\n",
    "- f.write(data)로 접근\n",
    "- 입력에는 readline, readlines, read함수가 존재\n",
    "- readline은 한줄 리턴, readlines는 각 라인을 요소로하는 리스트 리턴, read는 내용 전체를 문자열로 리턴"
   ]
  },
  {
   "cell_type": "code",
   "execution_count": 1,
   "metadata": {
    "collapsed": true
   },
   "outputs": [],
   "source": [
    "with open(\"foo.txt\", \"w\") as f:\n",
    "    f.write(\"Life is too short, you need python\")"
   ]
  },
  {
   "cell_type": "code",
   "execution_count": null,
   "metadata": {
    "collapsed": true
   },
   "outputs": [],
   "source": []
  }
 ],
 "metadata": {
  "kernelspec": {
   "display_name": "Python 3",
   "language": "python",
   "name": "python3"
  },
  "language_info": {
   "codemirror_mode": {
    "name": "ipython",
    "version": 3
   },
   "file_extension": ".py",
   "mimetype": "text/x-python",
   "name": "python",
   "nbconvert_exporter": "python",
   "pygments_lexer": "ipython3",
   "version": "3.5.1"
  }
 },
 "nbformat": 4,
 "nbformat_minor": 0
}
